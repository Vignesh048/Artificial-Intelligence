{
 "cells": [
  {
   "cell_type": "markdown",
   "metadata": {},
   "source": [
    "### Naive Bayes Classifier\n",
    "\n",
    "##### Using Gaussian formula for numerical features and directly using the conditional probability formula for categorical features\n",
    "#### Only preprocessing is done using Sklearn but model is implemented using formulae from scratch"
   ]
  },
  {
   "cell_type": "code",
   "execution_count": 25,
   "metadata": {},
   "outputs": [],
   "source": [
    "import pandas as pd\n",
    "import numpy as np\n",
    "import math as m\n",
    "import scipy.stats\n",
    "from sklearn.preprocessing import StandardScaler\n",
    "from sklearn.preprocessing import OneHotEncoder\n",
    "import seaborn as sns\n",
    "import matplotlib.pyplot"
   ]
  },
  {
   "cell_type": "code",
   "execution_count": 3,
   "metadata": {},
   "outputs": [
    {
     "data": {
      "text/html": [
       "<div>\n",
       "<style scoped>\n",
       "    .dataframe tbody tr th:only-of-type {\n",
       "        vertical-align: middle;\n",
       "    }\n",
       "\n",
       "    .dataframe tbody tr th {\n",
       "        vertical-align: top;\n",
       "    }\n",
       "\n",
       "    .dataframe thead th {\n",
       "        text-align: right;\n",
       "    }\n",
       "</style>\n",
       "<table border=\"1\" class=\"dataframe\">\n",
       "  <thead>\n",
       "    <tr style=\"text-align: right;\">\n",
       "      <th></th>\n",
       "      <th>age</th>\n",
       "      <th>sex</th>\n",
       "      <th>cp</th>\n",
       "      <th>trestbps</th>\n",
       "      <th>chol</th>\n",
       "      <th>target</th>\n",
       "    </tr>\n",
       "  </thead>\n",
       "  <tbody>\n",
       "    <tr>\n",
       "      <th>0</th>\n",
       "      <td>57</td>\n",
       "      <td>1</td>\n",
       "      <td>2</td>\n",
       "      <td>128</td>\n",
       "      <td>229</td>\n",
       "      <td>0</td>\n",
       "    </tr>\n",
       "    <tr>\n",
       "      <th>1</th>\n",
       "      <td>52</td>\n",
       "      <td>1</td>\n",
       "      <td>1</td>\n",
       "      <td>128</td>\n",
       "      <td>205</td>\n",
       "      <td>1</td>\n",
       "    </tr>\n",
       "    <tr>\n",
       "      <th>2</th>\n",
       "      <td>44</td>\n",
       "      <td>1</td>\n",
       "      <td>0</td>\n",
       "      <td>120</td>\n",
       "      <td>169</td>\n",
       "      <td>0</td>\n",
       "    </tr>\n",
       "    <tr>\n",
       "      <th>3</th>\n",
       "      <td>60</td>\n",
       "      <td>1</td>\n",
       "      <td>2</td>\n",
       "      <td>140</td>\n",
       "      <td>185</td>\n",
       "      <td>0</td>\n",
       "    </tr>\n",
       "    <tr>\n",
       "      <th>4</th>\n",
       "      <td>41</td>\n",
       "      <td>0</td>\n",
       "      <td>1</td>\n",
       "      <td>105</td>\n",
       "      <td>198</td>\n",
       "      <td>1</td>\n",
       "    </tr>\n",
       "    <tr>\n",
       "      <th>...</th>\n",
       "      <td>...</td>\n",
       "      <td>...</td>\n",
       "      <td>...</td>\n",
       "      <td>...</td>\n",
       "      <td>...</td>\n",
       "      <td>...</td>\n",
       "    </tr>\n",
       "    <tr>\n",
       "      <th>237</th>\n",
       "      <td>47</td>\n",
       "      <td>1</td>\n",
       "      <td>2</td>\n",
       "      <td>130</td>\n",
       "      <td>253</td>\n",
       "      <td>1</td>\n",
       "    </tr>\n",
       "    <tr>\n",
       "      <th>238</th>\n",
       "      <td>66</td>\n",
       "      <td>1</td>\n",
       "      <td>0</td>\n",
       "      <td>112</td>\n",
       "      <td>212</td>\n",
       "      <td>0</td>\n",
       "    </tr>\n",
       "    <tr>\n",
       "      <th>239</th>\n",
       "      <td>62</td>\n",
       "      <td>1</td>\n",
       "      <td>1</td>\n",
       "      <td>120</td>\n",
       "      <td>281</td>\n",
       "      <td>0</td>\n",
       "    </tr>\n",
       "    <tr>\n",
       "      <th>240</th>\n",
       "      <td>63</td>\n",
       "      <td>0</td>\n",
       "      <td>1</td>\n",
       "      <td>140</td>\n",
       "      <td>195</td>\n",
       "      <td>1</td>\n",
       "    </tr>\n",
       "    <tr>\n",
       "      <th>241</th>\n",
       "      <td>51</td>\n",
       "      <td>1</td>\n",
       "      <td>0</td>\n",
       "      <td>140</td>\n",
       "      <td>298</td>\n",
       "      <td>0</td>\n",
       "    </tr>\n",
       "  </tbody>\n",
       "</table>\n",
       "<p>242 rows × 6 columns</p>\n",
       "</div>"
      ],
      "text/plain": [
       "     age  sex  cp  trestbps  chol  target\n",
       "0     57    1   2       128   229       0\n",
       "1     52    1   1       128   205       1\n",
       "2     44    1   0       120   169       0\n",
       "3     60    1   2       140   185       0\n",
       "4     41    0   1       105   198       1\n",
       "..   ...  ...  ..       ...   ...     ...\n",
       "237   47    1   2       130   253       1\n",
       "238   66    1   0       112   212       0\n",
       "239   62    1   1       120   281       0\n",
       "240   63    0   1       140   195       1\n",
       "241   51    1   0       140   298       0\n",
       "\n",
       "[242 rows x 6 columns]"
      ]
     },
     "execution_count": 3,
     "metadata": {},
     "output_type": "execute_result"
    }
   ],
   "source": [
    "train = pd.read_csv(\"bayestrain.csv\")\n",
    "test = pd.read_csv('bayestest.csv')\n",
    "train"
   ]
  },
  {
   "cell_type": "markdown",
   "metadata": {},
   "source": [
    "#### EDA"
   ]
  },
  {
   "cell_type": "code",
   "execution_count": 31,
   "metadata": {},
   "outputs": [
    {
     "data": {
      "image/png": "[encoded data removed]",
      "text/plain": [
       "<Figure size 432x288 with 1 Axes>"
      ]
     },
     "metadata": {
      "needs_background": "light"
     },
     "output_type": "display_data"
    },
    {
     "data": {
      "image/png": "[encoded data removed]",
      "text/plain": [
       "<Figure size 432x288 with 1 Axes>"
      ]
     },
     "metadata": {
      "needs_background": "light"
     },
     "output_type": "display_data"
    },
    {
     "data": {
      "image/png": "[encoded data removed]",
      "text/plain": [
       "<Figure size 432x288 with 1 Axes>"
      ]
     },
     "metadata": {
      "needs_background": "light"
     },
     "output_type": "display_data"
    },
    {
     "data": {
      "image/png": "[encoded data removed]",
      "text/plain": [
       "<Figure size 432x288 with 1 Axes>"
      ]
     },
     "metadata": {
      "needs_background": "light"
     },
     "output_type": "display_data"
    },
    {
     "data": {
      "image/png": "[encoded data removed]",
      "text/plain": [
       "<Figure size 432x288 with 1 Axes>"
      ]
     },
     "metadata": {
      "needs_background": "light"
     },
     "output_type": "display_data"
    }
   ],
   "source": [
    "sns.histplot(x = \"age\",hue  = \"target\", data = train)\n",
    "plt.show()\n",
    "sns.histplot(x = \"chol\",hue  = \"target\", data = train)\n",
    "plt.show()\n",
    "sns.histplot(x = \"trestbps\",hue  = \"target\", data = train)\n",
    "plt.show()\n",
    "sns.countplot(x = \"sex\",hue  = \"target\", data = train)\n",
    "plt.show()\n",
    "sns.countplot(x = \"cp\",hue  = \"target\", data = train)\n",
    "plt.show()"
   ]
  },
  {
   "cell_type": "markdown",
   "metadata": {},
   "source": [
    "### Feature Preprocessing"
   ]
  },
  {
   "cell_type": "code",
   "execution_count": 443,
   "metadata": {},
   "outputs": [
    {
     "data": {
      "text/html": [
       "<div>\n",
       "<style scoped>\n",
       "    .dataframe tbody tr th:only-of-type {\n",
       "        vertical-align: middle;\n",
       "    }\n",
       "\n",
       "    .dataframe tbody tr th {\n",
       "        vertical-align: top;\n",
       "    }\n",
       "\n",
       "    .dataframe thead th {\n",
       "        text-align: right;\n",
       "    }\n",
       "</style>\n",
       "<table border=\"1\" class=\"dataframe\">\n",
       "  <thead>\n",
       "    <tr style=\"text-align: right;\">\n",
       "      <th></th>\n",
       "      <th>age</th>\n",
       "      <th>trestbps</th>\n",
       "      <th>chol</th>\n",
       "      <th>target</th>\n",
       "      <th>cp_0</th>\n",
       "      <th>cp_1</th>\n",
       "      <th>cp_2</th>\n",
       "      <th>cp_3</th>\n",
       "      <th>sex</th>\n",
       "    </tr>\n",
       "  </thead>\n",
       "  <tbody>\n",
       "    <tr>\n",
       "      <th>0</th>\n",
       "      <td>57</td>\n",
       "      <td>128</td>\n",
       "      <td>229</td>\n",
       "      <td>0</td>\n",
       "      <td>0</td>\n",
       "      <td>0</td>\n",
       "      <td>1</td>\n",
       "      <td>0</td>\n",
       "      <td>1</td>\n",
       "    </tr>\n",
       "    <tr>\n",
       "      <th>1</th>\n",
       "      <td>52</td>\n",
       "      <td>128</td>\n",
       "      <td>205</td>\n",
       "      <td>1</td>\n",
       "      <td>0</td>\n",
       "      <td>1</td>\n",
       "      <td>0</td>\n",
       "      <td>0</td>\n",
       "      <td>1</td>\n",
       "    </tr>\n",
       "    <tr>\n",
       "      <th>2</th>\n",
       "      <td>44</td>\n",
       "      <td>120</td>\n",
       "      <td>169</td>\n",
       "      <td>0</td>\n",
       "      <td>1</td>\n",
       "      <td>0</td>\n",
       "      <td>0</td>\n",
       "      <td>0</td>\n",
       "      <td>1</td>\n",
       "    </tr>\n",
       "    <tr>\n",
       "      <th>3</th>\n",
       "      <td>60</td>\n",
       "      <td>140</td>\n",
       "      <td>185</td>\n",
       "      <td>0</td>\n",
       "      <td>0</td>\n",
       "      <td>0</td>\n",
       "      <td>1</td>\n",
       "      <td>0</td>\n",
       "      <td>1</td>\n",
       "    </tr>\n",
       "    <tr>\n",
       "      <th>4</th>\n",
       "      <td>41</td>\n",
       "      <td>105</td>\n",
       "      <td>198</td>\n",
       "      <td>1</td>\n",
       "      <td>0</td>\n",
       "      <td>1</td>\n",
       "      <td>0</td>\n",
       "      <td>0</td>\n",
       "      <td>0</td>\n",
       "    </tr>\n",
       "    <tr>\n",
       "      <th>...</th>\n",
       "      <td>...</td>\n",
       "      <td>...</td>\n",
       "      <td>...</td>\n",
       "      <td>...</td>\n",
       "      <td>...</td>\n",
       "      <td>...</td>\n",
       "      <td>...</td>\n",
       "      <td>...</td>\n",
       "      <td>...</td>\n",
       "    </tr>\n",
       "    <tr>\n",
       "      <th>237</th>\n",
       "      <td>47</td>\n",
       "      <td>130</td>\n",
       "      <td>253</td>\n",
       "      <td>1</td>\n",
       "      <td>0</td>\n",
       "      <td>0</td>\n",
       "      <td>1</td>\n",
       "      <td>0</td>\n",
       "      <td>1</td>\n",
       "    </tr>\n",
       "    <tr>\n",
       "      <th>238</th>\n",
       "      <td>66</td>\n",
       "      <td>112</td>\n",
       "      <td>212</td>\n",
       "      <td>0</td>\n",
       "      <td>1</td>\n",
       "      <td>0</td>\n",
       "      <td>0</td>\n",
       "      <td>0</td>\n",
       "      <td>1</td>\n",
       "    </tr>\n",
       "    <tr>\n",
       "      <th>239</th>\n",
       "      <td>62</td>\n",
       "      <td>120</td>\n",
       "      <td>281</td>\n",
       "      <td>0</td>\n",
       "      <td>0</td>\n",
       "      <td>1</td>\n",
       "      <td>0</td>\n",
       "      <td>0</td>\n",
       "      <td>1</td>\n",
       "    </tr>\n",
       "    <tr>\n",
       "      <th>240</th>\n",
       "      <td>63</td>\n",
       "      <td>140</td>\n",
       "      <td>195</td>\n",
       "      <td>1</td>\n",
       "      <td>0</td>\n",
       "      <td>1</td>\n",
       "      <td>0</td>\n",
       "      <td>0</td>\n",
       "      <td>0</td>\n",
       "    </tr>\n",
       "    <tr>\n",
       "      <th>241</th>\n",
       "      <td>51</td>\n",
       "      <td>140</td>\n",
       "      <td>298</td>\n",
       "      <td>0</td>\n",
       "      <td>1</td>\n",
       "      <td>0</td>\n",
       "      <td>0</td>\n",
       "      <td>0</td>\n",
       "      <td>1</td>\n",
       "    </tr>\n",
       "  </tbody>\n",
       "</table>\n",
       "<p>242 rows × 9 columns</p>\n",
       "</div>"
      ],
      "text/plain": [
       "     age  trestbps  chol  target  cp_0  cp_1  cp_2  cp_3  sex\n",
       "0     57       128   229       0     0     0     1     0    1\n",
       "1     52       128   205       1     0     1     0     0    1\n",
       "2     44       120   169       0     1     0     0     0    1\n",
       "3     60       140   185       0     0     0     1     0    1\n",
       "4     41       105   198       1     0     1     0     0    0\n",
       "..   ...       ...   ...     ...   ...   ...   ...   ...  ...\n",
       "237   47       130   253       1     0     0     1     0    1\n",
       "238   66       112   212       0     1     0     0     0    1\n",
       "239   62       120   281       0     0     1     0     0    1\n",
       "240   63       140   195       1     0     1     0     0    0\n",
       "241   51       140   298       0     1     0     0     0    1\n",
       "\n",
       "[242 rows x 9 columns]"
      ]
     },
     "execution_count": 443,
     "metadata": {},
     "output_type": "execute_result"
    }
   ],
   "source": [
    "# converting categorical data into one hot features\n",
    "# Removing the sex column from the middle and joining it at the end\n",
    "train = pd.get_dummies(train,columns = [\"cp\"])\n",
    "test = pd.get_dummies(test,columns = [\"cp\"])\n",
    "x = train.pop(\"sex\")\n",
    "train[\"sex\"] = x\n",
    "y = test.pop(\"sex\")\n",
    "test[\"sex\"] = y\n",
    "train"
   ]
  },
  {
   "cell_type": "markdown",
   "metadata": {},
   "source": [
    "#### Finding the mean and variance of non Standardized data"
   ]
  },
  {
   "cell_type": "code",
   "execution_count": 444,
   "metadata": {},
   "outputs": [],
   "source": [
    "mean_table_un = train.groupby([\"target\"]).mean()\n",
    "std_table_un = train.groupby([\"target\"]).std()"
   ]
  },
  {
   "cell_type": "code",
   "execution_count": 445,
   "metadata": {},
   "outputs": [
    {
     "data": {
      "text/html": [
       "<div>\n",
       "<style scoped>\n",
       "    .dataframe tbody tr th:only-of-type {\n",
       "        vertical-align: middle;\n",
       "    }\n",
       "\n",
       "    .dataframe tbody tr th {\n",
       "        vertical-align: top;\n",
       "    }\n",
       "\n",
       "    .dataframe thead th {\n",
       "        text-align: right;\n",
       "    }\n",
       "</style>\n",
       "<table border=\"1\" class=\"dataframe\">\n",
       "  <thead>\n",
       "    <tr style=\"text-align: right;\">\n",
       "      <th></th>\n",
       "      <th>age</th>\n",
       "      <th>trestbps</th>\n",
       "      <th>chol</th>\n",
       "      <th>cp_0</th>\n",
       "      <th>cp_1</th>\n",
       "      <th>cp_2</th>\n",
       "      <th>cp_3</th>\n",
       "      <th>sex</th>\n",
       "    </tr>\n",
       "    <tr>\n",
       "      <th>target</th>\n",
       "      <th></th>\n",
       "      <th></th>\n",
       "      <th></th>\n",
       "      <th></th>\n",
       "      <th></th>\n",
       "      <th></th>\n",
       "      <th></th>\n",
       "      <th></th>\n",
       "    </tr>\n",
       "  </thead>\n",
       "  <tbody>\n",
       "    <tr>\n",
       "      <th>0</th>\n",
       "      <td>56.153846</td>\n",
       "      <td>133.777778</td>\n",
       "      <td>249.068376</td>\n",
       "      <td>0.726496</td>\n",
       "      <td>0.076923</td>\n",
       "      <td>0.136752</td>\n",
       "      <td>0.059829</td>\n",
       "      <td>0.854701</td>\n",
       "    </tr>\n",
       "    <tr>\n",
       "      <th>1</th>\n",
       "      <td>52.560000</td>\n",
       "      <td>128.408000</td>\n",
       "      <td>245.616000</td>\n",
       "      <td>0.232000</td>\n",
       "      <td>0.272000</td>\n",
       "      <td>0.408000</td>\n",
       "      <td>0.088000</td>\n",
       "      <td>0.592000</td>\n",
       "    </tr>\n",
       "  </tbody>\n",
       "</table>\n",
       "</div>"
      ],
      "text/plain": [
       "              age    trestbps        chol      cp_0      cp_1      cp_2  \\\n",
       "target                                                                    \n",
       "0       56.153846  133.777778  249.068376  0.726496  0.076923  0.136752   \n",
       "1       52.560000  128.408000  245.616000  0.232000  0.272000  0.408000   \n",
       "\n",
       "            cp_3       sex  \n",
       "target                      \n",
       "0       0.059829  0.854701  \n",
       "1       0.088000  0.592000  "
      ]
     },
     "execution_count": 445,
     "metadata": {},
     "output_type": "execute_result"
    }
   ],
   "source": [
    "mean_table_un"
   ]
  },
  {
   "cell_type": "code",
   "execution_count": 446,
   "metadata": {},
   "outputs": [
    {
     "data": {
      "text/html": [
       "<div>\n",
       "<style scoped>\n",
       "    .dataframe tbody tr th:only-of-type {\n",
       "        vertical-align: middle;\n",
       "    }\n",
       "\n",
       "    .dataframe tbody tr th {\n",
       "        vertical-align: top;\n",
       "    }\n",
       "\n",
       "    .dataframe thead th {\n",
       "        text-align: right;\n",
       "    }\n",
       "</style>\n",
       "<table border=\"1\" class=\"dataframe\">\n",
       "  <thead>\n",
       "    <tr style=\"text-align: right;\">\n",
       "      <th></th>\n",
       "      <th>age</th>\n",
       "      <th>trestbps</th>\n",
       "      <th>chol</th>\n",
       "      <th>cp_0</th>\n",
       "      <th>cp_1</th>\n",
       "      <th>cp_2</th>\n",
       "      <th>cp_3</th>\n",
       "      <th>sex</th>\n",
       "    </tr>\n",
       "    <tr>\n",
       "      <th>target</th>\n",
       "      <th></th>\n",
       "      <th></th>\n",
       "      <th></th>\n",
       "      <th></th>\n",
       "      <th></th>\n",
       "      <th></th>\n",
       "      <th></th>\n",
       "      <th></th>\n",
       "    </tr>\n",
       "  </thead>\n",
       "  <tbody>\n",
       "    <tr>\n",
       "      <th>0</th>\n",
       "      <td>7.952028</td>\n",
       "      <td>18.592319</td>\n",
       "      <td>46.305717</td>\n",
       "      <td>0.447675</td>\n",
       "      <td>0.267615</td>\n",
       "      <td>0.345063</td>\n",
       "      <td>0.238190</td>\n",
       "      <td>0.353918</td>\n",
       "    </tr>\n",
       "    <tr>\n",
       "      <th>1</th>\n",
       "      <td>9.398353</td>\n",
       "      <td>16.053889</td>\n",
       "      <td>56.724971</td>\n",
       "      <td>0.423808</td>\n",
       "      <td>0.446781</td>\n",
       "      <td>0.493441</td>\n",
       "      <td>0.284435</td>\n",
       "      <td>0.493441</td>\n",
       "    </tr>\n",
       "  </tbody>\n",
       "</table>\n",
       "</div>"
      ],
      "text/plain": [
       "             age   trestbps       chol      cp_0      cp_1      cp_2  \\\n",
       "target                                                                 \n",
       "0       7.952028  18.592319  46.305717  0.447675  0.267615  0.345063   \n",
       "1       9.398353  16.053889  56.724971  0.423808  0.446781  0.493441   \n",
       "\n",
       "            cp_3       sex  \n",
       "target                      \n",
       "0       0.238190  0.353918  \n",
       "1       0.284435  0.493441  "
      ]
     },
     "execution_count": 446,
     "metadata": {},
     "output_type": "execute_result"
    }
   ],
   "source": [
    "std_table_un"
   ]
  },
  {
   "cell_type": "markdown",
   "metadata": {},
   "source": [
    "#### Probabilities of classes P(c1) and P(c2)"
   ]
  },
  {
   "cell_type": "code",
   "execution_count": 452,
   "metadata": {},
   "outputs": [
    {
     "data": {
      "text/plain": [
       "0.4834710743801653"
      ]
     },
     "execution_count": 452,
     "metadata": {},
     "output_type": "execute_result"
    }
   ],
   "source": [
    "P0 = len(train[train[\"target\"]==0])/len(train)\n",
    "P1 = 1 - P0\n",
    "P0"
   ]
  },
  {
   "cell_type": "markdown",
   "metadata": {},
   "source": [
    "\n",
    "### Gaussian Probability - P(xk / cj)"
   ]
  },
  {
   "cell_type": "code",
   "execution_count": 453,
   "metadata": {},
   "outputs": [],
   "source": [
    "def prob_Xk_Cj(xk,uj,vj):\n",
    "    \n",
    "   # P = (1/m.sqrt(2*m.pi*(vj**2))*m.exp(-(xk-uj)**2/(2*(vj**2))))\n",
    "    P = scipy.stats.norm.pdf(xk,uj,vj)\n",
    "    \n",
    "    return P"
   ]
  },
  {
   "cell_type": "code",
   "execution_count": 454,
   "metadata": {},
   "outputs": [
    {
     "data": {
      "text/html": [
       "<div>\n",
       "<style scoped>\n",
       "    .dataframe tbody tr th:only-of-type {\n",
       "        vertical-align: middle;\n",
       "    }\n",
       "\n",
       "    .dataframe tbody tr th {\n",
       "        vertical-align: top;\n",
       "    }\n",
       "\n",
       "    .dataframe thead th {\n",
       "        text-align: right;\n",
       "    }\n",
       "</style>\n",
       "<table border=\"1\" class=\"dataframe\">\n",
       "  <thead>\n",
       "    <tr style=\"text-align: right;\">\n",
       "      <th></th>\n",
       "      <th>age</th>\n",
       "      <th>trestbps</th>\n",
       "      <th>chol</th>\n",
       "      <th>cp_0</th>\n",
       "      <th>cp_1</th>\n",
       "      <th>cp_2</th>\n",
       "      <th>cp_3</th>\n",
       "      <th>sex</th>\n",
       "    </tr>\n",
       "    <tr>\n",
       "      <th>target</th>\n",
       "      <th></th>\n",
       "      <th></th>\n",
       "      <th></th>\n",
       "      <th></th>\n",
       "      <th></th>\n",
       "      <th></th>\n",
       "      <th></th>\n",
       "      <th></th>\n",
       "    </tr>\n",
       "  </thead>\n",
       "  <tbody>\n",
       "    <tr>\n",
       "      <th>0</th>\n",
       "      <td>6570</td>\n",
       "      <td>15652</td>\n",
       "      <td>29141</td>\n",
       "      <td>85</td>\n",
       "      <td>9</td>\n",
       "      <td>16</td>\n",
       "      <td>7</td>\n",
       "      <td>100</td>\n",
       "    </tr>\n",
       "    <tr>\n",
       "      <th>1</th>\n",
       "      <td>6570</td>\n",
       "      <td>16051</td>\n",
       "      <td>30702</td>\n",
       "      <td>29</td>\n",
       "      <td>34</td>\n",
       "      <td>51</td>\n",
       "      <td>11</td>\n",
       "      <td>74</td>\n",
       "    </tr>\n",
       "  </tbody>\n",
       "</table>\n",
       "</div>"
      ],
      "text/plain": [
       "         age  trestbps   chol  cp_0  cp_1  cp_2  cp_3  sex\n",
       "target                                                    \n",
       "0       6570     15652  29141    85     9    16     7  100\n",
       "1       6570     16051  30702    29    34    51    11   74"
      ]
     },
     "execution_count": 454,
     "metadata": {},
     "output_type": "execute_result"
    }
   ],
   "source": [
    "sum_table = train.groupby(\"target\").sum()\n",
    "count_table = train.groupby(\"target\").count()\n",
    "sum_table"
   ]
  },
  {
   "cell_type": "markdown",
   "metadata": {},
   "source": [
    "#### Probability - P(x) Unstandardized"
   ]
  },
  {
   "cell_type": "code",
   "execution_count": 455,
   "metadata": {},
   "outputs": [],
   "source": [
    "def P_N_UN(x):\n",
    "    \n",
    "    Px0 = 1\n",
    "    Px1 = 1\n",
    "    \n",
    "    for i in range(3):\n",
    "    \n",
    "        mean0 = mean_table_un.iloc[0,i]\n",
    "        std0 = std_table_un.iloc[0,i]\n",
    "    \n",
    "        prob0 = prob_Xk_Cj(x[i],mean0,std0)\n",
    "\n",
    "        mean1 = mean_table_un.iloc[1,i]\n",
    "        std1 = std_table_un.iloc[1,i]\n",
    "        \n",
    "        prob1 = prob_Xk_Cj(x[i],mean1,std1)\n",
    "        \n",
    "        Px0 = Px0 * prob0\n",
    "        \n",
    "        Px1 = Px1 * prob1\n",
    "\n",
    "    \n",
    "    for i  in range(3,7):\n",
    "        \n",
    "        if x[i] == 1:\n",
    "            prob0  = sum_table.iloc[0,i]/count_table.iloc[0,i]\n",
    "            prob1  = sum_table.iloc[1,i]/count_table.iloc[1,i]\n",
    "        else:\n",
    "            prob0  = 1 - (sum_table.iloc[0,i]/count_table.iloc[0,i])\n",
    "            prob1  = 1 - (sum_table.iloc[1,i]/count_table.iloc[1,i])\n",
    "            \n",
    "            \n",
    "        Px0 = Px0 * prob0\n",
    "        \n",
    "        Px1 = Px1 * prob1\n",
    "        \n",
    "        \n",
    "    return Px0,Px1"
   ]
  },
  {
   "cell_type": "markdown",
   "metadata": {},
   "source": [
    "#### Naive Bayes classifier - P(cj  /xk)"
   ]
  },
  {
   "cell_type": "markdown",
   "metadata": {},
   "source": [
    "#### Without Standardization"
   ]
  },
  {
   "cell_type": "code",
   "execution_count": 457,
   "metadata": {},
   "outputs": [],
   "source": [
    "def Naive_bayes_Un(x):\n",
    "    \n",
    "    px0,px1 = P_N_UN(x)\n",
    "    \n",
    "    P0x = px0 * P0/(px0*P0 + px1*P1)\n",
    "    P1x = px1 * P1/(px0*P0 + px1*P1)\n",
    "    if P0x>P1x:\n",
    "    \n",
    "        return 0\n",
    "    else:\n",
    "    \n",
    "        return 1"
   ]
  },
  {
   "cell_type": "code",
   "execution_count": 458,
   "metadata": {},
   "outputs": [],
   "source": [
    "test_array = np.concatenate((np.array(test.iloc[:,0:3]),np.array(test.iloc[:,4:8])),axis =1) \n",
    "actual_value = np.array(test.iloc[:,3]).reshape(len(test_array),1)"
   ]
  },
  {
   "cell_type": "code",
   "execution_count": 459,
   "metadata": {},
   "outputs": [],
   "source": [
    "target = np.zeros((len(test_array),1))\n",
    "for i in range(len(test_array)):\n",
    "    target[i] = Naive_bayes_Un(test_array[i])"
   ]
  },
  {
   "cell_type": "code",
   "execution_count": 460,
   "metadata": {},
   "outputs": [
    {
     "name": "stdout",
     "output_type": "stream",
     "text": [
      "Percentage of correctly classified data -  78.68852459016394\n"
     ]
    }
   ],
   "source": [
    "wrong_class = sum((target - actual_value)**2)/len(test_array)\n",
    "print(\"Percentage of correctly classified data - \",(1-wrong_class)[0]*100)"
   ]
  },
  {
   "cell_type": "markdown",
   "metadata": {},
   "source": [
    "### With Standardization"
   ]
  },
  {
   "cell_type": "markdown",
   "metadata": {},
   "source": [
    "#### Mean and variance of Standardized data"
   ]
  },
  {
   "cell_type": "code",
   "execution_count": 447,
   "metadata": {},
   "outputs": [],
   "source": [
    "train1 = train.copy(deep=True)\n",
    "test1 = test.copy(deep=True)\n",
    "standardize = StandardScaler()\n",
    "standardize.fit(train[[\"age\",\"trestbps\",\"chol\"]])\n",
    "train1[[\"age\",\"trestbps\",\"chol\"]] = standardize.transform(train[[\"age\",\"trestbps\",\"chol\"]])\n",
    "test1[[\"age\",\"trestbps\",\"chol\"]] = standardize.transform(test[[\"age\",\"trestbps\",\"chol\"]])"
   ]
  },
  {
   "cell_type": "code",
   "execution_count": 461,
   "metadata": {},
   "outputs": [
    {
     "data": {
      "text/html": [
       "<div>\n",
       "<style scoped>\n",
       "    .dataframe tbody tr th:only-of-type {\n",
       "        vertical-align: middle;\n",
       "    }\n",
       "\n",
       "    .dataframe tbody tr th {\n",
       "        vertical-align: top;\n",
       "    }\n",
       "\n",
       "    .dataframe thead th {\n",
       "        text-align: right;\n",
       "    }\n",
       "</style>\n",
       "<table border=\"1\" class=\"dataframe\">\n",
       "  <thead>\n",
       "    <tr style=\"text-align: right;\">\n",
       "      <th></th>\n",
       "      <th>age</th>\n",
       "      <th>trestbps</th>\n",
       "      <th>chol</th>\n",
       "      <th>target</th>\n",
       "      <th>cp_0</th>\n",
       "      <th>cp_1</th>\n",
       "      <th>cp_2</th>\n",
       "      <th>cp_3</th>\n",
       "      <th>sex</th>\n",
       "    </tr>\n",
       "  </thead>\n",
       "  <tbody>\n",
       "    <tr>\n",
       "      <th>0</th>\n",
       "      <td>0.304446</td>\n",
       "      <td>-0.172029</td>\n",
       "      <td>-0.353239</td>\n",
       "      <td>0</td>\n",
       "      <td>0</td>\n",
       "      <td>0</td>\n",
       "      <td>1</td>\n",
       "      <td>0</td>\n",
       "      <td>1</td>\n",
       "    </tr>\n",
       "    <tr>\n",
       "      <th>1</th>\n",
       "      <td>-0.258826</td>\n",
       "      <td>-0.172029</td>\n",
       "      <td>-0.816879</td>\n",
       "      <td>1</td>\n",
       "      <td>0</td>\n",
       "      <td>1</td>\n",
       "      <td>0</td>\n",
       "      <td>0</td>\n",
       "      <td>1</td>\n",
       "    </tr>\n",
       "    <tr>\n",
       "      <th>2</th>\n",
       "      <td>-1.160062</td>\n",
       "      <td>-0.630142</td>\n",
       "      <td>-1.512340</td>\n",
       "      <td>0</td>\n",
       "      <td>1</td>\n",
       "      <td>0</td>\n",
       "      <td>0</td>\n",
       "      <td>0</td>\n",
       "      <td>1</td>\n",
       "    </tr>\n",
       "    <tr>\n",
       "      <th>3</th>\n",
       "      <td>0.642410</td>\n",
       "      <td>0.515140</td>\n",
       "      <td>-1.203247</td>\n",
       "      <td>0</td>\n",
       "      <td>0</td>\n",
       "      <td>0</td>\n",
       "      <td>1</td>\n",
       "      <td>0</td>\n",
       "      <td>1</td>\n",
       "    </tr>\n",
       "    <tr>\n",
       "      <th>4</th>\n",
       "      <td>-1.498025</td>\n",
       "      <td>-1.489103</td>\n",
       "      <td>-0.952108</td>\n",
       "      <td>1</td>\n",
       "      <td>0</td>\n",
       "      <td>1</td>\n",
       "      <td>0</td>\n",
       "      <td>0</td>\n",
       "      <td>0</td>\n",
       "    </tr>\n",
       "    <tr>\n",
       "      <th>...</th>\n",
       "      <td>...</td>\n",
       "      <td>...</td>\n",
       "      <td>...</td>\n",
       "      <td>...</td>\n",
       "      <td>...</td>\n",
       "      <td>...</td>\n",
       "      <td>...</td>\n",
       "      <td>...</td>\n",
       "      <td>...</td>\n",
       "    </tr>\n",
       "    <tr>\n",
       "      <th>237</th>\n",
       "      <td>-0.822099</td>\n",
       "      <td>-0.057501</td>\n",
       "      <td>0.110402</td>\n",
       "      <td>1</td>\n",
       "      <td>0</td>\n",
       "      <td>0</td>\n",
       "      <td>1</td>\n",
       "      <td>0</td>\n",
       "      <td>1</td>\n",
       "    </tr>\n",
       "    <tr>\n",
       "      <th>238</th>\n",
       "      <td>1.318337</td>\n",
       "      <td>-1.088255</td>\n",
       "      <td>-0.681651</td>\n",
       "      <td>0</td>\n",
       "      <td>1</td>\n",
       "      <td>0</td>\n",
       "      <td>0</td>\n",
       "      <td>0</td>\n",
       "      <td>1</td>\n",
       "    </tr>\n",
       "    <tr>\n",
       "      <th>239</th>\n",
       "      <td>0.867719</td>\n",
       "      <td>-0.630142</td>\n",
       "      <td>0.651316</td>\n",
       "      <td>0</td>\n",
       "      <td>0</td>\n",
       "      <td>1</td>\n",
       "      <td>0</td>\n",
       "      <td>0</td>\n",
       "      <td>1</td>\n",
       "    </tr>\n",
       "    <tr>\n",
       "      <th>240</th>\n",
       "      <td>0.980373</td>\n",
       "      <td>0.515140</td>\n",
       "      <td>-1.010063</td>\n",
       "      <td>1</td>\n",
       "      <td>0</td>\n",
       "      <td>1</td>\n",
       "      <td>0</td>\n",
       "      <td>0</td>\n",
       "      <td>0</td>\n",
       "    </tr>\n",
       "    <tr>\n",
       "      <th>241</th>\n",
       "      <td>-0.371481</td>\n",
       "      <td>0.515140</td>\n",
       "      <td>0.979728</td>\n",
       "      <td>0</td>\n",
       "      <td>1</td>\n",
       "      <td>0</td>\n",
       "      <td>0</td>\n",
       "      <td>0</td>\n",
       "      <td>1</td>\n",
       "    </tr>\n",
       "  </tbody>\n",
       "</table>\n",
       "<p>242 rows × 9 columns</p>\n",
       "</div>"
      ],
      "text/plain": [
       "          age  trestbps      chol  target  cp_0  cp_1  cp_2  cp_3  sex\n",
       "0    0.304446 -0.172029 -0.353239       0     0     0     1     0    1\n",
       "1   -0.258826 -0.172029 -0.816879       1     0     1     0     0    1\n",
       "2   -1.160062 -0.630142 -1.512340       0     1     0     0     0    1\n",
       "3    0.642410  0.515140 -1.203247       0     0     0     1     0    1\n",
       "4   -1.498025 -1.489103 -0.952108       1     0     1     0     0    0\n",
       "..        ...       ...       ...     ...   ...   ...   ...   ...  ...\n",
       "237 -0.822099 -0.057501  0.110402       1     0     0     1     0    1\n",
       "238  1.318337 -1.088255 -0.681651       0     1     0     0     0    1\n",
       "239  0.867719 -0.630142  0.651316       0     0     1     0     0    1\n",
       "240  0.980373  0.515140 -1.010063       1     0     1     0     0    0\n",
       "241 -0.371481  0.515140  0.979728       0     1     0     0     0    1\n",
       "\n",
       "[242 rows x 9 columns]"
      ]
     },
     "execution_count": 461,
     "metadata": {},
     "output_type": "execute_result"
    }
   ],
   "source": [
    "train1"
   ]
  },
  {
   "cell_type": "code",
   "execution_count": 462,
   "metadata": {},
   "outputs": [],
   "source": [
    "mean_table_n = train1.groupby([\"target\"]).mean()\n",
    "std_table_n = train1.groupby([\"target\"]).std()"
   ]
  },
  {
   "cell_type": "code",
   "execution_count": 463,
   "metadata": {},
   "outputs": [
    {
     "data": {
      "text/html": [
       "<div>\n",
       "<style scoped>\n",
       "    .dataframe tbody tr th:only-of-type {\n",
       "        vertical-align: middle;\n",
       "    }\n",
       "\n",
       "    .dataframe tbody tr th {\n",
       "        vertical-align: top;\n",
       "    }\n",
       "\n",
       "    .dataframe thead th {\n",
       "        text-align: right;\n",
       "    }\n",
       "</style>\n",
       "<table border=\"1\" class=\"dataframe\">\n",
       "  <thead>\n",
       "    <tr style=\"text-align: right;\">\n",
       "      <th></th>\n",
       "      <th>age</th>\n",
       "      <th>trestbps</th>\n",
       "      <th>chol</th>\n",
       "      <th>cp_0</th>\n",
       "      <th>cp_1</th>\n",
       "      <th>cp_2</th>\n",
       "      <th>cp_3</th>\n",
       "      <th>sex</th>\n",
       "    </tr>\n",
       "    <tr>\n",
       "      <th>target</th>\n",
       "      <th></th>\n",
       "      <th></th>\n",
       "      <th></th>\n",
       "      <th></th>\n",
       "      <th></th>\n",
       "      <th></th>\n",
       "      <th></th>\n",
       "      <th></th>\n",
       "    </tr>\n",
       "  </thead>\n",
       "  <tbody>\n",
       "    <tr>\n",
       "      <th>0</th>\n",
       "      <td>0.209123</td>\n",
       "      <td>0.158830</td>\n",
       "      <td>0.034450</td>\n",
       "      <td>0.726496</td>\n",
       "      <td>0.076923</td>\n",
       "      <td>0.136752</td>\n",
       "      <td>0.059829</td>\n",
       "      <td>0.854701</td>\n",
       "    </tr>\n",
       "    <tr>\n",
       "      <th>1</th>\n",
       "      <td>-0.195740</td>\n",
       "      <td>-0.148665</td>\n",
       "      <td>-0.032245</td>\n",
       "      <td>0.232000</td>\n",
       "      <td>0.272000</td>\n",
       "      <td>0.408000</td>\n",
       "      <td>0.088000</td>\n",
       "      <td>0.592000</td>\n",
       "    </tr>\n",
       "  </tbody>\n",
       "</table>\n",
       "</div>"
      ],
      "text/plain": [
       "             age  trestbps      chol      cp_0      cp_1      cp_2      cp_3  \\\n",
       "target                                                                         \n",
       "0       0.209123  0.158830  0.034450  0.726496  0.076923  0.136752  0.059829   \n",
       "1      -0.195740 -0.148665 -0.032245  0.232000  0.272000  0.408000  0.088000   \n",
       "\n",
       "             sex  \n",
       "target            \n",
       "0       0.854701  \n",
       "1       0.592000  "
      ]
     },
     "execution_count": 463,
     "metadata": {},
     "output_type": "execute_result"
    }
   ],
   "source": [
    "mean_table_n\n"
   ]
  },
  {
   "cell_type": "code",
   "execution_count": 464,
   "metadata": {},
   "outputs": [
    {
     "data": {
      "text/html": [
       "<div>\n",
       "<style scoped>\n",
       "    .dataframe tbody tr th:only-of-type {\n",
       "        vertical-align: middle;\n",
       "    }\n",
       "\n",
       "    .dataframe tbody tr th {\n",
       "        vertical-align: top;\n",
       "    }\n",
       "\n",
       "    .dataframe thead th {\n",
       "        text-align: right;\n",
       "    }\n",
       "</style>\n",
       "<table border=\"1\" class=\"dataframe\">\n",
       "  <thead>\n",
       "    <tr style=\"text-align: right;\">\n",
       "      <th></th>\n",
       "      <th>age</th>\n",
       "      <th>trestbps</th>\n",
       "      <th>chol</th>\n",
       "      <th>cp_0</th>\n",
       "      <th>cp_1</th>\n",
       "      <th>cp_2</th>\n",
       "      <th>cp_3</th>\n",
       "      <th>sex</th>\n",
       "    </tr>\n",
       "    <tr>\n",
       "      <th>target</th>\n",
       "      <th></th>\n",
       "      <th></th>\n",
       "      <th></th>\n",
       "      <th></th>\n",
       "      <th></th>\n",
       "      <th></th>\n",
       "      <th></th>\n",
       "      <th></th>\n",
       "    </tr>\n",
       "  </thead>\n",
       "  <tbody>\n",
       "    <tr>\n",
       "      <th>0</th>\n",
       "      <td>0.895832</td>\n",
       "      <td>1.064672</td>\n",
       "      <td>0.894551</td>\n",
       "      <td>0.447675</td>\n",
       "      <td>0.267615</td>\n",
       "      <td>0.345063</td>\n",
       "      <td>0.238190</td>\n",
       "      <td>0.353918</td>\n",
       "    </tr>\n",
       "    <tr>\n",
       "      <th>1</th>\n",
       "      <td>1.058767</td>\n",
       "      <td>0.919312</td>\n",
       "      <td>1.095834</td>\n",
       "      <td>0.423808</td>\n",
       "      <td>0.446781</td>\n",
       "      <td>0.493441</td>\n",
       "      <td>0.284435</td>\n",
       "      <td>0.493441</td>\n",
       "    </tr>\n",
       "  </tbody>\n",
       "</table>\n",
       "</div>"
      ],
      "text/plain": [
       "             age  trestbps      chol      cp_0      cp_1      cp_2      cp_3  \\\n",
       "target                                                                         \n",
       "0       0.895832  1.064672  0.894551  0.447675  0.267615  0.345063  0.238190   \n",
       "1       1.058767  0.919312  1.095834  0.423808  0.446781  0.493441  0.284435   \n",
       "\n",
       "             sex  \n",
       "target            \n",
       "0       0.353918  \n",
       "1       0.493441  "
      ]
     },
     "execution_count": 464,
     "metadata": {},
     "output_type": "execute_result"
    }
   ],
   "source": [
    "std_table_n"
   ]
  },
  {
   "cell_type": "markdown",
   "metadata": {},
   "source": [
    "### Conditional Probabilities"
   ]
  },
  {
   "cell_type": "code",
   "execution_count": 465,
   "metadata": {},
   "outputs": [],
   "source": [
    "def P_N_N(x):\n",
    "    \n",
    "    Px0 = 1\n",
    "    Px1 = 1\n",
    "    \n",
    "    for i in range(3):\n",
    "    \n",
    "        mean0 = mean_table_n.iloc[0,i]\n",
    "        std0 = std_table_n.iloc[0,i]\n",
    "    \n",
    "        prob0 = prob_Xk_Cj(x[i],mean0,std0)\n",
    "\n",
    "        mean1 = mean_table_n.iloc[1,i]\n",
    "        std1 = std_table_n.iloc[1,i]\n",
    "        \n",
    "        prob1 = prob_Xk_Cj(x[i],mean1,std1)\n",
    "        \n",
    "        Px0 = Px0 * prob0\n",
    "        \n",
    "        Px1 = Px1 * prob1\n",
    "\n",
    "    \n",
    "    for i  in range(3,7):\n",
    "        \n",
    "        if x[i] == 1:\n",
    "            prob0  = sum_table.iloc[0,i]/count_table.iloc[0,i]\n",
    "            prob1  = sum_table.iloc[1,i]/count_table.iloc[1,i]\n",
    "        else:\n",
    "            prob0  = 1 - (sum_table.iloc[0,i]/count_table.iloc[0,i])\n",
    "            prob1  = 1 - (sum_table.iloc[1,i]/count_table.iloc[1,i])\n",
    "            \n",
    "            \n",
    "        Px0 = Px0 * prob0\n",
    "        \n",
    "        Px1 = Px1 * prob1\n",
    "        \n",
    "\n",
    "    return Px0,Px1"
   ]
  },
  {
   "cell_type": "markdown",
   "metadata": {},
   "source": [
    "#### Naive Bayes classifier - P(cj  /xk) with standardizatioabsn"
   ]
  },
  {
   "cell_type": "code",
   "execution_count": 472,
   "metadata": {},
   "outputs": [],
   "source": [
    "def Naive_bayes_n(x):\n",
    "    \n",
    "    px0,px1 = P_N_N(x)\n",
    "    \n",
    "    P0x = px0 * P0/(px0*P0 + px1*P1)\n",
    "    P1x = px1 * P1/(px0*P0 + px1*P1)\n",
    "\n",
    "    if P0x>P1x:\n",
    "    \n",
    "        return 0\n",
    "    else:\n",
    "    \n",
    "        return 1"
   ]
  },
  {
   "cell_type": "code",
   "execution_count": 467,
   "metadata": {},
   "outputs": [],
   "source": [
    "test_array = np.concatenate((np.array(test1.iloc[:,0:3]),np.array(test1.iloc[:,4:8])),axis =1) \n",
    "actual_value = np.array(test1.iloc[:,3]).reshape(len(test_array),1)"
   ]
  },
  {
   "cell_type": "code",
   "execution_count": 468,
   "metadata": {},
   "outputs": [],
   "source": [
    "target = np.zeros((len(test_array),1))\n",
    "for i in range(len(test_array)):\n",
    "    target[i] = Naive_bayes_n(test_array[i])"
   ]
  },
  {
   "cell_type": "code",
   "execution_count": 469,
   "metadata": {},
   "outputs": [
    {
     "name": "stdout",
     "output_type": "stream",
     "text": [
      "Percentage of correctly classified data -  78.68852459016394\n"
     ]
    }
   ],
   "source": [
    "wrong_class = sum((target - actual_value)**2)/len(test_array)\n",
    "print(\"Percentage of correctly classified data - \",(1-wrong_class)[0]*100)"
   ]
  },
  {
   "cell_type": "code",
   "execution_count": 470,
   "metadata": {},
   "outputs": [
    {
     "name": "stdout",
     "output_type": "stream",
     "text": [
      "[[19  2]\n",
      " [11 29]]\n"
     ]
    }
   ],
   "source": [
    "from sklearn.metrics import confusion_matrix  \n",
    "cm = confusion_matrix(actual_value, target)  \n",
    "print(cm)"
   ]
  },
  {
   "cell_type": "markdown",
   "metadata": {},
   "source": [
    "### Using Sklearn Library "
   ]
  },
  {
   "cell_type": "code",
   "execution_count": 473,
   "metadata": {},
   "outputs": [],
   "source": [
    "from sklearn.naive_bayes import GaussianNB\n",
    "train = pd.read_csv(\"bayestrain.csv\")\n",
    "test = pd.read_csv('bayestest.csv')\n",
    "train\n",
    "\n",
    "X = train.iloc[:,:-1]\n",
    "y = train.iloc[:,-1]\n",
    "\n",
    "testX = test.iloc[:,:-1]\n",
    "testY = test.iloc[:,-1]\n",
    "\n",
    "model = GaussianNB()\n",
    "model.fit(X,y)\n",
    "pred = model.predict(testX)"
   ]
  },
  {
   "cell_type": "code",
   "execution_count": 426,
   "metadata": {
    "scrolled": true
   },
   "outputs": [
    {
     "data": {
      "text/plain": [
       "0.7704918032786885"
      ]
     },
     "execution_count": 426,
     "metadata": {},
     "output_type": "execute_result"
    }
   ],
   "source": [
    "from sklearn.metrics import accuracy_score\n",
    "accuracy_score(testY, pred) "
   ]
  },
  {
   "cell_type": "code",
   "execution_count": 309,
   "metadata": {},
   "outputs": [
    {
     "name": "stdout",
     "output_type": "stream",
     "text": [
      "[[13  8]\n",
      " [ 6 34]]\n"
     ]
    }
   ],
   "source": [
    "from sklearn.metrics import confusion_matrix  \n",
    "cm = confusion_matrix(testY, pred)  \n",
    "print(cm)"
   ]
  },
  {
   "cell_type": "markdown",
   "metadata": {},
   "source": [
    "#### Accuracy of own model without Standardization = 78.7 %\n",
    "#### Accuracy of own model with Standardization = 78.7 %\n",
    "#### Accuracy of Naive Bayes Classifier = 77.05 %\n",
    "\n",
    "## Result: Standardization has no effect in naive bayes classifier"
   ]
  }
 ],
 "metadata": {
  "kernelspec": {
   "display_name": "Python 3",
   "language": "python",
   "name": "python3"
  },
  "language_info": {
   "codemirror_mode": {
    "name": "ipython",
    "version": 3
   },
   "file_extension": ".py",
   "mimetype": "text/x-python",
   "name": "python",
   "nbconvert_exporter": "python",
   "pygments_lexer": "ipython3",
   "version": "3.9.0"
  }
 },
 "nbformat": 4,
 "nbformat_minor": 4
}
